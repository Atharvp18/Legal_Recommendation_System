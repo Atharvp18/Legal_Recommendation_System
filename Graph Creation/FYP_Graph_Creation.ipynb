{
  "cells": [
    {
      "cell_type": "code",
      "execution_count": null,
      "metadata": {
        "id": "HHcnzEq9Ifsu"
      },
      "outputs": [],
      "source": [
        "import pandas as pd\n",
        "import numpy as np\n",
        "import re"
      ]
    },
    {
      "cell_type": "code",
      "execution_count": null,
      "metadata": {
        "colab": {
          "base_uri": "https://localhost:8080/",
          "height": 590
        },
        "id": "zNTtXqWvN-ag",
        "outputId": "92ca2741-10fa-4d65-9487-a4c76a89b0e2"
      },
      "outputs": [],
      "source": [
        "columns_to_read=['DocID','Case_Name', 'Judgement_Date','Author','Bench', 'CaseID/CitationID','Verdict','IPC','CRPC','CPC','Acts','PrecedentCaseID','Precedent','CommonIPC','CommonCRPC','CommonCPC','CommonActs','Location']\n",
        "data = pd.read_csv(\"legal_data.csv\",encoding='latin-1', usecols=columns_to_read)\n",
        "data = data.dropna(how='all')\n",
        "\n",
        "data.head()"
      ]
    },
    {
      "cell_type": "code",
      "execution_count": null,
      "metadata": {
        "colab": {
          "base_uri": "https://localhost:8080/"
        },
        "id": "NogHnyLBiDTW",
        "outputId": "3fe4ca8d-5bd4-474a-c7c6-bfd4e50cb6f4"
      },
      "outputs": [],
      "source": [
        "!pip install py2neo"
      ]
    },
    {
      "cell_type": "code",
      "execution_count": null,
      "metadata": {
        "colab": {
          "base_uri": "https://localhost:8080/"
        },
        "id": "wODpGV89eNwF",
        "outputId": "22e04fb7-0778-4069-bbe8-a0b236c6250f"
      },
      "outputs": [],
      "source": [
        "from py2neo import Graph,Node,Relationship\n",
        "import math\n",
        "import ast\n",
        "\n",
        "# Connect to your Neo4j instance bolt+s://<your-neo4j-aura-instance>.databases.neo4j.io:7687\n",
        "\n",
        "graph = Graph(\"<connection uri>\", auth=(\"neo4j\", \"<pass>\"))\n",
        "\n",
        "# Create a dictionary to store case nodes by CaseID for quick access\n",
        "case_nodes = {}\n",
        "\n",
        "# Iterate through the DataFrame and create case nodes\n",
        "for index, row in data.iterrows():\n",
        "    if math.isnan(row['DocID']):\n",
        "      continue\n",
        "    doc_id = int(row['DocID'])\n",
        "    print(doc_id)\n",
        "\n",
        "    ipc_list = list()\n",
        "    crpc_list = list()\n",
        "    cpc_list = list()\n",
        "    acts_list = list()\n",
        "\n",
        "    if type(row['IPC']) == str:\n",
        "      ipc_list = ast.literal_eval(row['IPC'])\n",
        "\n",
        "    if type(row['CRPC']) == str:\n",
        "      crpc_list = ast.literal_eval(row['CRPC'])\n",
        "\n",
        "    if type(row['CPC']) == str:\n",
        "      cpc_list = ast.literal_eval(row['CPC'])\n",
        "\n",
        "    if type(row['Acts']) == str:\n",
        "      acts_list = ast.literal_eval(row['Acts'])\n",
        "\n",
        "    case_node = Node(\"Case\",\n",
        "                     CaseID=doc_id,\n",
        "                     Case_Name=str(row['Case_Name']).strip(),\n",
        "                     Judgement_Date=str(row['Judgement_Date']).strip(),\n",
        "                     Author=str(row['Author']).strip(),\n",
        "                     Bench=str(row['Bench']).split(\",\"),\n",
        "                     CaseID_CitationID=str(row['CaseID/CitationID']).split(\",\"),\n",
        "                     Verdict=str(row['Verdict']).strip(),\n",
        "                     IPC=ipc_list,\n",
        "                     CRPC=crpc_list,\n",
        "                     CPC=cpc_list,\n",
        "                     Acts=acts_list,\n",
        "                     Location=str(row['Location']))\n",
        "\n",
        "    # Merge nodes in the Neo4j database\n",
        "    graph.merge(case_node, \"Case\", \"CaseID\")\n",
        "\n",
        "    # Store the case node in the dictionary for quick access\n",
        "    case_nodes[doc_id] = case_node\n",
        "\n",
        "count = 0\n",
        "# Iterate through the DataFrame again to create CITES relationships\n",
        "for _, row in data.iterrows():\n",
        "  try:\n",
        "    if math.isnan(row['PrecedentCaseID']):\n",
        "        continue\n",
        "    doc_id = int(row['DocID'])\n",
        "    precedent_id = int(str(row['PrecedentCaseID']).split('.')[0].replace(\"\\\"\",\"\").strip())\n",
        "    # precedent_id = int(row['PrecedentCaseID'].strip().replace(\"\\\"\",\"\"))\n",
        "\n",
        "    # Get the case nodes from the dictionary\n",
        "    case_node = case_nodes[doc_id]\n",
        "    precedent_node = case_nodes[precedent_id]\n",
        "\n",
        "    common_ipc_list = list()\n",
        "    common_crpc_list = list()\n",
        "    common_cpc_list = list()\n",
        "    commomn_acts_list = list()\n",
        "\n",
        "    if type(row['CommonIPC']) == str:\n",
        "      common_ipc_list = ast.literal_eval(row['CommonIPC'])\n",
        "\n",
        "    if type(row['CommonCRPC']) == str:\n",
        "      common_crpc_list = ast.literal_eval(row['CommonCRPC'])\n",
        "\n",
        "    if type(row['CommonCPC']) == str:\n",
        "      common_cpc_list = ast.literal_eval(row['CommonCPC'])\n",
        "\n",
        "    if type(row['CommonActs']) == str:\n",
        "      common_acts_list = ast.literal_eval(row['CommonActs'])\n",
        "\n",
        "    # Create CITES relationship with properties\n",
        "    cites_relation = Relationship(case_node, \"CITES\", precedent_node,\n",
        "                                  CommonIPC=common_ipc_list,\n",
        "                                  CommonCRPC=common_crpc_list,\n",
        "                                  CommonCPC=common_cpc_list,\n",
        "                                  CommonActs=common_acts_list)\n",
        "\n",
        "    # Merge the relationship in the Neo4j database\n",
        "    graph.merge(cites_relation, \"Case\", \"CaseID\")\n",
        "\n",
        "  except KeyError:\n",
        "    print(\"Keyerror\")\n",
        "    count += 1\n",
        "\n",
        "# Print a success message\n",
        "print(\"Graph created successfully!\")\n",
        "print(count)\n"
      ]
    }
  ],
  "metadata": {
    "colab": {
      "provenance": []
    },
    "kernelspec": {
      "display_name": "Python 3",
      "name": "python3"
    },
    "language_info": {
      "name": "python"
    }
  },
  "nbformat": 4,
  "nbformat_minor": 0
}
